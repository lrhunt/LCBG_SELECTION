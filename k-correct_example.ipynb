{
 "cells": [
  {
   "cell_type": "markdown",
   "metadata": {},
   "source": [
    "Start by importing the packages we need."
   ]
  },
  {
   "cell_type": "code",
   "execution_count": 1,
   "metadata": {},
   "outputs": [
    {
     "ename": "ModuleNotFoundError",
     "evalue": "No module named 'kcorrect'",
     "output_type": "error",
     "traceback": [
      "\u001b[0;31m---------------------------------------------------------------------------\u001b[0m",
      "\u001b[0;31mModuleNotFoundError\u001b[0m                       Traceback (most recent call last)",
      "\u001b[0;32m<ipython-input-1-a4892a3a9a0e>\u001b[0m in \u001b[0;36m<module>\u001b[0;34m()\u001b[0m\n\u001b[1;32m      1\u001b[0m \u001b[0;32mimport\u001b[0m \u001b[0mnumpy\u001b[0m \u001b[0;32mas\u001b[0m \u001b[0mnp\u001b[0m\u001b[0;34m\u001b[0m\u001b[0m\n\u001b[0;32m----> 2\u001b[0;31m \u001b[0;32mimport\u001b[0m \u001b[0mkcorrect\u001b[0m\u001b[0;34m\u001b[0m\u001b[0m\n\u001b[0m\u001b[1;32m      3\u001b[0m \u001b[0;32mimport\u001b[0m \u001b[0mkcorrect\u001b[0m\u001b[0;34m.\u001b[0m\u001b[0mutils\u001b[0m \u001b[0;32mas\u001b[0m \u001b[0mut\u001b[0m\u001b[0;34m\u001b[0m\u001b[0m\n\u001b[1;32m      4\u001b[0m \u001b[0;32mfrom\u001b[0m \u001b[0mastropy\u001b[0m\u001b[0;34m.\u001b[0m\u001b[0mcosmology\u001b[0m \u001b[0;32mimport\u001b[0m \u001b[0mWMAP9\u001b[0m \u001b[0;32mas\u001b[0m \u001b[0mcosmo\u001b[0m\u001b[0;34m\u001b[0m\u001b[0m\n",
      "\u001b[0;31mModuleNotFoundError\u001b[0m: No module named 'kcorrect'"
     ]
    }
   ],
   "source": [
    "import numpy as np\n",
    "import kcorrect\n",
    "import kcorrect.utils as ut\n",
    "from astropy.cosmology import WMAP9 as cosmo"
   ]
  },
  {
   "cell_type": "markdown",
   "metadata": {},
   "source": [
    "Below I prepare load the file that contains the data into some numpy arrays"
   ]
  },
  {
   "cell_type": "code",
   "execution_count": null,
   "metadata": {},
   "outputs": [],
   "source": [
    "print('Reading in LAMBDAR Catalog')\n",
    "\n",
    "filein='/home/lrhunt/CATALOGS/PHOT/LAMBDAR_MAG_R.txt'\n",
    "IDtot,RAtot,DECtot,utot,uerrtot,btot,berrtot,vtot,verrtot,rtot,rerrtot,itot,ierrtot,ztot,zerrtot,ktot,kerrtot,NUVtot,NUVerrtot,rh,zbesttot,zusetot,zphottot,SGCLASStot=np.loadtxt(filein,unpack=True)"
   ]
  },
  {
   "cell_type": "markdown",
   "metadata": {},
   "source": [
    "The file is the full LAMBDAR catalog. I want to select galaxies with z<1.2 and spectroscopic redshifts only"
   ]
  },
  {
   "cell_type": "code",
   "execution_count": null,
   "metadata": {},
   "outputs": [],
   "source": [
    "print('Selecting all galaxies between 0<z<1.2, Spectroscopic redshifts')\n",
    "\n",
    "ID=IDtot[np.where((zbesttot>0)&(zbesttot<1.2)&(zusetot<=2)&(SGCLASStot==0))[0]]\n",
    "RA=RAtot[np.where((zbesttot>0)&(zbesttot<1.2)&(zusetot<=2)&(SGCLASStot==0))[0]]\n",
    "DECL=DECtot[np.where((zbesttot>0)&(zbesttot<1.2)&(zusetot<=2)&(SGCLASStot==0))[0]]\n",
    "SGCLASS=SGCLASStot[np.where((zbesttot>0)&(zbesttot<1.2)&(zusetot<=2)&(SGCLASStot==0))[0]]\n",
    "umag=utot[np.where((zbesttot>0)&(zbesttot<1.2)&(zusetot<=2)&(SGCLASStot==0))[0]]\n",
    "uerr=uerrtot[np.where((zbesttot>0)&(zbesttot<1.2)&(zusetot<=2)&(SGCLASStot==0))[0]]\n",
    "bmag=btot[np.where((zbesttot>0)&(zbesttot<1.2)&(zusetot<=2)&(SGCLASStot==0))[0]]\n",
    "berr=berrtot[np.where((zbesttot>0)&(zbesttot<1.2)&(zusetot<=2)&(SGCLASStot==0))[0]]\n",
    "vmag=vtot[np.where((zbesttot>0)&(zbesttot<1.2)&(zusetot<=2)&(SGCLASStot==0))[0]]\n",
    "verr=verrtot[np.where((zbesttot>0)&(zbesttot<1.2)&(zusetot<=2)&(SGCLASStot==0))[0]]\n",
    "imag=itot[np.where((zbesttot>0)&(zbesttot<1.2)&(zusetot<=2)&(SGCLASStot==0))[0]]\n",
    "ierr=ierrtot[np.where((zbesttot>0)&(zbesttot<1.2)&(zusetot<=2)&(SGCLASStot==0))[0]]\n",
    "zmag=ztot[np.where((zbesttot>0)&(zbesttot<1.2)&(zusetot<=2)&(SGCLASStot==0))[0]]\n",
    "zerr=zerrtot[np.where((zbesttot>0)&(zbesttot<1.2)&(zusetot<=2)&(SGCLASStot==0))[0]]\n",
    "kmag=ktot[np.where((zbesttot>0)&(zbesttot<1.2)&(zusetot<=2)&(SGCLASStot==0))[0]]\n",
    "kerr=kerrtot[np.where((zbesttot>0)&(zbesttot<1.2)&(zusetot<=2)&(SGCLASStot==0))[0]]\n",
    "zbest=zbesttot[np.where((zbesttot>0)&(zbesttot<1.2)&(zusetot<=2)&(SGCLASStot==0))[0]]\n",
    "zuse=zusetot[np.where((zbesttot>0)&(zbesttot<1.2)&(zusetot<=2)&(SGCLASStot==0))[0]]\n",
    "zphot=zphottot[np.where((zbesttot>0)&(zbesttot<1.2)&(zusetot<=2)&(SGCLASStot==0))[0]]\n",
    "rmag=rtot[np.where((zbesttot>0)&(zbesttot<1.2)&(zusetot<=2)&(SGCLASStot==0))[0]]\n",
    "rerr=rerrtot[np.where((zbesttot>0)&(zbesttot<1.2)&(zusetot<=2)&(SGCLASStot==0))[0]]\n",
    "rh=rh[np.where((zbesttot>0)&(zbesttot<1.2)&(zusetot<=2)&(SGCLASStot==0))[0]]"
   ]
  },
  {
   "cell_type": "markdown",
   "metadata": {},
   "source": [
    "k-correct uses a special unit which the label \"maggies\". We need to convert from apparent magnitude to maggies and from error in magnitude to inverse variance (invervar). Then put maggies into an array, and the error values into an array. (For more on how to calculate these values look at kcorrect.org or the python wrapper)"
   ]
  },
  {
   "cell_type": "code",
   "execution_count": null,
   "metadata": {},
   "outputs": [],
   "source": [
    "print('Converting to maggies')\n",
    "\n",
    "umaggies=ut.mag2maggies(umag)\n",
    "bmaggies=ut.mag2maggies(bmag)\n",
    "vmaggies=ut.mag2maggies(vmag)\n",
    "rmaggies=ut.mag2maggies(rmag)\n",
    "imaggies=ut.mag2maggies(imag)\n",
    "zmaggies=ut.mag2maggies(zmag)\n",
    "\n",
    "uinvervar=ut.invariance(umaggies,uerr)\n",
    "binvervar=ut.invariance(bmaggies,berr)\n",
    "vinvervar=ut.invariance(vmaggies,verr)\n",
    "rinvervar=ut.invariance(rmaggies,rerr)\n",
    "iinvervar=ut.invariance(imaggies,ierr)\n",
    "zinvervar=ut.invariance(zmaggies,zerr)\n",
    "\n",
    "allmaggies=np.stack((umaggies,bmaggies,vmaggies,rmaggies,imaggies,zmaggies),axis=-1)\n",
    "allinvervar=np.stack((uinvervar,binvervar,vinvervar,rinvervar,iinvervar,zinvervar),axis=-1)"
   ]
  },
  {
   "cell_type": "markdown",
   "metadata": {},
   "source": [
    "Next we need to make some arrays. First the coefficient array. This is where we store the coefficients the program uses to calculate maggies in the new passband. Then we need reconstructed maggies in the passband that we want to calculate. \n",
    "\n",
    "carr=coefficients array\n",
    "\n",
    "rmarr=maggies estimated based on the coefficients (basically we can calculate the magnitude of the source based on the spectrum (or SED) that kcorrect fits to the soruce). This can be used to see how the observed and estimated magnitudes compare\n",
    "\n",
    "rmarr0=The rest frame maggies for the object. Used to calculate the rest-frame magnitude of the source in the original filter\n",
    "\n",
    "rmarr0B=Rest from maggies in the Johnson B Band. \n",
    "\n",
    "rmarr0V=Rest from maggies in the Johnson V Band.\n",
    "\n",
    "rmarr0U=Rest from maggies in the Johnson U Band."
   ]
  },
  {
   "cell_type": "code",
   "execution_count": null,
   "metadata": {},
   "outputs": [],
   "source": [
    "carr=np.ndarray((len(bmaggies),6))\n",
    "rmarr=np.ndarray((len(bmaggies),7))\n",
    "rmarr0=np.ndarray((len(bmaggies),7))\n",
    "rmarr0B=np.ndarray((len(bmaggies),7))\n",
    "rmarr0V=np.ndarray((len(bmaggies),7))\n",
    "rmarr0U=np.ndarray((len(bmaggies),7))"
   ]
  },
  {
   "cell_type": "markdown",
   "metadata": {},
   "source": [
    "Finally we calculate the k-correction. First we need to load the filter template we need"
   ]
  },
  {
   "cell_type": "code",
   "execution_count": null,
   "metadata": {},
   "outputs": [],
   "source": [
    "print('Computing k-corrections and estimated magnitudes')\n",
    "\n",
    "kcorrect.load_templates()\n",
    "kcorrect.load_filters('/home/lrhunt/programs/kcorrect/data/templates/Lum_Func_Filters_US.dat')"
   ]
  },
  {
   "cell_type": "markdown",
   "metadata": {},
   "source": [
    "Example of the template file. You can create this (or similar) and store in the templates directory. Example of the path I used can be seen above. \n",
    "\n",
    "KCORRECT_DIR\n",
    "data/filters/capak_cfht_megaprime_sagem_u.par\n",
    "data/filters/capak_subaru_suprimecam_B.par\n",
    "data/filters/capak_subaru_suprimecam_V.par\n",
    "data/filters/capak_subaru_suprimecam_r.par\n",
    "data/filters/capak_subaru_suprimecam_i.par\n",
    "data/filters/capak_subaru_suprimecam_z.par\n",
    "\n",
    "Next we calculate the coefficients and put them in the coefficients array. "
   ]
  },
  {
   "cell_type": "code",
   "execution_count": null,
   "metadata": {},
   "outputs": [],
   "source": [
    "for i in range(0,len(carr)):\n",
    "\tcarr[i]=kcorrect.fit_nonneg(zbest[i],allmaggies[i],allinvervar[i])"
   ]
  },
  {
   "cell_type": "markdown",
   "metadata": {},
   "source": [
    "Next we use the coefficients to reconstruct the maggies (i.e. use the SED to calculate the maggies in the observed passband and the emitted passband)"
   ]
  },
  {
   "cell_type": "code",
   "execution_count": null,
   "metadata": {},
   "outputs": [],
   "source": [
    "for i in range(0,len(carr)):\n",
    "\trmarr[i]=kcorrect.reconstruct_maggies(carr[i])\n",
    "\trmarr0[i]=kcorrect.reconstruct_maggies(carr[i],redshift=0)"
   ]
  },
  {
   "cell_type": "markdown",
   "metadata": {},
   "source": [
    "Now we need to load the template which only contains the b-band filter. This will allow us to estimate maggies for Johnson B."
   ]
  },
  {
   "cell_type": "code",
   "execution_count": null,
   "metadata": {},
   "outputs": [],
   "source": [
    "kcorrect.load_templates()\n",
    "kcorrect.load_filters('/home/lrhunt/programs/kcorrect/data/templates/BESSEL_B2.dat')\n",
    "\n",
    "for i in range(0,len(carr)):\n",
    "\trmarr0B[i]=kcorrect.reconstruct_maggies(carr[i],redshift=0)"
   ]
  },
  {
   "cell_type": "markdown",
   "metadata": {},
   "source": [
    "Next we calculate the k-correction. \n",
    "\n",
    "kcorr=correct from observed to rest frame magnitude in the the observed filters\n",
    "\n",
    "kcorrM=k-correction from the observed apparent magnitude to the restframe johnson B magnitude\n",
    "\n",
    "corrB=apparent Johnson B magnitude calculated from the estimated SED"
   ]
  },
  {
   "cell_type": "code",
   "execution_count": null,
   "metadata": {},
   "outputs": [],
   "source": [
    "kcorr=-2.5*np.log10(rmarr/rmarr0)\n",
    "kcorrM=-2.5*np.log10(rmarr/rmarr0B)\n",
    "corrB=-2.5*np.log10(rmarr0B)+0.09"
   ]
  },
  {
   "cell_type": "markdown",
   "metadata": {},
   "source": [
    "Finally calculate the absolute magnitude. \n",
    "\n",
    "I used the apparent magnitude in the passband closest to the rest frame Johnson B band. This reduces the required k-correction and improves the estimate! The small value (i.e. in the first loop -0.05122) corrects for the difference in observed apparent magnitude (from survey) and calculated apparent magnitude (what kcorrect estimates the apparent magnitude to be based on the constructed SED). This is similar to what is done in CAPAK,2007 (the original COSMOS photometry paper)"
   ]
  },
  {
   "cell_type": "code",
   "execution_count": null,
   "metadata": {},
   "outputs": [],
   "source": [
    "M=np.zeros_like(zbest)\n",
    "bv=corrB[:,3]-corrV[:,4]\n",
    "#M=corrB[:,3]-cosmo.distmod(zbest).value\n",
    "for i in range(0,len(zbest)):\n",
    "\tif zbest[i]<=0.1:\n",
    "\t\tM[i]=bmag[i]-0.05122-cosmo.distmod(zbest[i]).value-kcorrM[i][2]\n",
    "\tif zbest[i]<=0.35 and zbest[i]>0.1:\n",
    "\t\tM[i]=vmag[i]+0.069802-cosmo.distmod(zbest[i]).value-kcorrM[i][3]\n",
    "\tif zbest[i]<=0.55 and zbest[i]>0.35:\n",
    "\t\tM[i]=rmag[i]-0.01267-cosmo.distmod(zbest[i]).value-kcorrM[i][4]\n",
    "\tif zbest[i]<=0.75 and zbest[i]>0.55:\n",
    "\t\tM[i]=imag[i]-0.004512-cosmo.distmod(zbest[i]).value-kcorrM[i][5]\n",
    "\tif zbest[i]>0.75:\n",
    "\t\tM[i]=zmag[i]-0.00177-cosmo.distmod(zbest[i]).value-kcorrM[i][6]\n",
    "\n",
    "M=M+0.09"
   ]
  },
  {
   "cell_type": "markdown",
   "metadata": {},
   "source": [
    "If you have any questions about any of this just ask! Hopefully what I've supplied is helpful and makes sense!"
   ]
  }
 ],
 "metadata": {
  "kernelspec": {
   "display_name": "Python 3",
   "language": "python",
   "name": "python3"
  },
  "language_info": {
   "codemirror_mode": {
    "name": "ipython",
    "version": 3
   },
   "file_extension": ".py",
   "mimetype": "text/x-python",
   "name": "python",
   "nbconvert_exporter": "python",
   "pygments_lexer": "ipython3",
   "version": "3.6.4"
  }
 },
 "nbformat": 4,
 "nbformat_minor": 2
}
